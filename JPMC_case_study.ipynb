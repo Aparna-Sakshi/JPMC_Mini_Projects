{
 "cells": [
  {
   "cell_type": "markdown",
   "metadata": {},
   "source": [
    "# <b>JPMC Case Study</b>\n",
    "-------------------------------------------------------------------"
   ]
  },
  {
   "cell_type": "markdown",
   "metadata": {},
   "source": [
    "##### <b>Name: </b> Aparna Sakshi\n",
    "##### <b>Institute: </b> Indian Institute of Technology, Kharagpur\n",
    "##### <b>Branch: </b> Mathematics and Computing\n",
    "##### <b>Year of study: </b> Third year\n",
    "----------------------------------------------------"
   ]
  },
  {
   "cell_type": "markdown",
   "metadata": {},
   "source": [
    "## <b>Case Study A:</b> Options"
   ]
  },
  {
   "cell_type": "code",
   "execution_count": 1,
   "metadata": {},
   "outputs": [],
   "source": [
    "import matplotlib.pyplot as plt\n",
    "plt.style.use('ggplot')"
   ]
  },
  {
   "cell_type": "code",
   "execution_count": 2,
   "metadata": {},
   "outputs": [],
   "source": [
    "\"\"\"\n",
    "    Investment is a class defining derivative/option\n",
    "    \n",
    "    class variables:\n",
    "        position: can take 2 values 1)long, 2)short, to specify long position or short position respectively\n",
    "        option: can take 2 values 1)call, 2)put, to specify call option or put option\n",
    "        strike: price of the strike\n",
    "        premium: premium price\n",
    "        payoff: payoff function, although it is a class variable, it can be called a function, \n",
    "        where input is stock price, and output is payoff at that stock price\n",
    "        \n",
    "    methods:\n",
    "        get_portfolio: returns the dictionary of portfolio of the corresponding class\n",
    "        \n",
    "        \n",
    "        \n",
    "\"\"\"\n",
    "class Investment:\n",
    "    def __init__(self, position, option, strike, premium):\n",
    "        self.position = position\n",
    "        self.option = option\n",
    "        self.strike = strike\n",
    "        self.premium = premium\n",
    "        self.payoff=None\n",
    "        if position==\"long\" and option==\"call\":\n",
    "            self.payoff= lambda stock: max(0, stock-strike)-premium\n",
    "        elif position==\"long\" and option==\"put\":\n",
    "            self.payoff= lambda stock: max(0, strike-stock)-premium\n",
    "        elif position==\"short\" and option==\"call\":\n",
    "            self.payoff= lambda stock: -max(0, stock-strike)+premium\n",
    "        elif position==\"short\" and option==\"put\":\n",
    "            self.payoff= lambda stock: -max(0, strike-stock)+premium\n",
    "        else:\n",
    "            raise Exception(\"valid values were not given to calulate payoff\")\n",
    "            \n",
    "    def get_portfolio(self):\n",
    "        return {\"position\":self.position,\"option\":self.option,\"strike\":self.strike,\"premium\":self.premium}\n",
    "    \n",
    "\n",
    "    "
   ]
  },
  {
   "cell_type": "code",
   "execution_count": 3,
   "metadata": {},
   "outputs": [],
   "source": [
    "\"\"\"\n",
    "    payoff_plot is a function to plot payoff vs stocks for a given list of portfolios\n",
    "\n",
    "    params:\n",
    "        investments: List of Investment\n",
    "\"\"\"\n",
    "def payoff_plot(investments):\n",
    "    # x axis values\n",
    "    x = list(range(101))\n",
    "    \n",
    "    # corresponding y axis values\n",
    "    y = [sum([investment.payoff(stock) for investment in investments]) for stock in x]\n",
    "\n",
    "    # plotting the points \n",
    "    plt.plot(x, y)\n",
    "\n",
    "    # naming the x axis\n",
    "    plt.xlabel('stock')\n",
    "    # naming the y axis\n",
    "    plt.ylabel('payoff')\n",
    "\n",
    "    # giving a title to my graph\n",
    "    plt.title('payoff vs stock')\n",
    "\n",
    "    # function to show the plot\n",
    "    plt.show()\n",
    "    \n",
    "        \n",
    "    \n",
    "        \n",
    "    \n",
    "    "
   ]
  },
  {
   "cell_type": "markdown",
   "metadata": {},
   "source": [
    "<b>Q1: a:</b> Show the payoff plot when you long a call and short a put, both at the strike of $50?<br><br>\n",
    "<u>Solution format:</u>\n",
    "- If you have written the code, please provide a standalone function (no-arguments) that generates \n",
    "the payoff plot "
   ]
  },
  {
   "cell_type": "code",
   "execution_count": 4,
   "metadata": {},
   "outputs": [],
   "source": [
    "\"\"\"\n",
    "    Investment1: I1\n",
    "        position=long\n",
    "        option=call\n",
    "        strike=$50\n",
    "        premium=$4 ->default for call option\n",
    "        \n",
    "    Investment2: I2\n",
    "        position=short\n",
    "        option=put\n",
    "        strike=$50\n",
    "        premium=$2 ->default for put option\n",
    "\"\"\"\n",
    "\n",
    "def Solution_1a():    \n",
    "    I1 = Investment(\"long\",\"call\",50,4)\n",
    "    I2 = Investment(\"short\",\"put\",50,2)    \n",
    "    investments=[I1,I2]\n",
    "    payoff_plot(investments)\n"
   ]
  },
  {
   "cell_type": "code",
   "execution_count": 5,
   "metadata": {},
   "outputs": [
    {
     "data": {
      "image/png": "[encoded data removed]",
      "text/plain": [
       "<Figure size 432x288 with 1 Axes>"
      ]
     },
     "metadata": {},
     "output_type": "display_data"
    }
   ],
   "source": [
    "Solution_1a()"
   ]
  },
  {
   "cell_type": "markdown",
   "metadata": {},
   "source": [
    "<b>Q1: b:</b> Based on your understanding of the payoff plot in Q1: a: what real-world asset is the portfolio trying to mimic? <br>\n",
    "<u>Solution format:</u> Describe in words."
   ]
  },
  {
   "cell_type": "markdown",
   "metadata": {},
   "source": [
    "<i><b>Ans: </b>When a person purchases share of a particular company his payoff will be shown by the above plot when the stock price varies. Share purchase price is stock value on the line corresponding to when payoff is 0.</i>"
   ]
  },
  {
   "cell_type": "markdown",
   "metadata": {},
   "source": [
    "<b>Q2: a:</b> Based on the plot below, can you replicate the payoff by a combination of calls and puts? \n",
    "The peak in the graph is at (50, 6) and the absolute slopes of the sides = 1. "
   ]
  },
  {
   "cell_type": "markdown",
   "metadata": {},
   "source": [
    "<u>Solution format:</u>\n",
    "- If you have written the code, please provide a standalone function (no-arguments) that generates the plot and returns the portfolio of calls and puts that you have chosen to replicate the payoff. "
   ]
  },
  {
   "cell_type": "code",
   "execution_count": 6,
   "metadata": {},
   "outputs": [],
   "source": [
    "\"\"\"\n",
    "    To generate the plot, following portfolios are chosen:\n",
    "    \n",
    "    Investment1: I1\n",
    "        position=short\n",
    "        option=call\n",
    "        strike=$50\n",
    "        premium=$4 ->default for call option\n",
    "        \n",
    "    Investment2: I2\n",
    "        position=short\n",
    "        option=put\n",
    "        strike=$50\n",
    "        premium=$2 ->default for put option\n",
    "\"\"\"\n",
    "\n",
    "def Solution_2a():    \n",
    "    I1 = Investment(\"short\",\"call\",50,4)\n",
    "    I2 = Investment(\"short\",\"put\",50,2)    \n",
    "    investments=[I1,I2]\n",
    "    payoff_plot(investments)\n",
    "    #returning portfolios\n",
    "    return [I.get_portfolio() for I in investments]\n"
   ]
  },
  {
   "cell_type": "code",
   "execution_count": 7,
   "metadata": {},
   "outputs": [
    {
     "data": {
      "image/png": "[encoded data removed]",
      "text/plain": [
       "<Figure size 432x288 with 1 Axes>"
      ]
     },
     "metadata": {},
     "output_type": "display_data"
    },
    {
     "data": {
      "text/plain": [
       "[{'position': 'short', 'option': 'call', 'strike': 50, 'premium': 4},\n",
       " {'position': 'short', 'option': 'put', 'strike': 50, 'premium': 2}]"
      ]
     },
     "execution_count": 7,
     "metadata": {},
     "output_type": "execute_result"
    }
   ],
   "source": [
    "Solution_2a()"
   ]
  },
  {
   "cell_type": "markdown",
   "metadata": {},
   "source": [
    "<b>Q2: b:</b> What could be the investor’s belief if she/he is targeting the payoff shown in Q2: a:? In other words, at what scenarios would such a strategy give positive returns to the investor? <br>\n",
    "<u>Solution format:</u> Describe in words."
   ]
  },
  {
   "cell_type": "markdown",
   "metadata": {},
   "source": [
    "<i><b>Ans: </b>The investor believes that stock price will almost remain constant. </i>"
   ]
  },
  {
   "cell_type": "markdown",
   "metadata": {},
   "source": [
    "<b>Q3: </b>The investor seems to be happy with his/her strategy in Q2: a: but worried about the potential uncapped losses. How could the investor achieve the below payoff? The peak in the graph is at (54, 4) and bases of the peak are at (50, 0) and (58, 0). "
   ]
  },
  {
   "cell_type": "markdown",
   "metadata": {},
   "source": [
    "<u>Solution format:</u>\n",
    "- If you have written the code, please provide a standalone function (no-arguments) that generates the plot and returns the portfolio of calls and puts that you have chosen to replicate the payoff. "
   ]
  },
  {
   "cell_type": "code",
   "execution_count": 8,
   "metadata": {},
   "outputs": [],
   "source": [
    "\"\"\"\n",
    "    To generate the plot, following portfolios are chosen:\n",
    "    \n",
    "    Investment1: I1\n",
    "        position=long\n",
    "        option=call\n",
    "        strike=$50\n",
    "        premium=$4 ->default for call option\n",
    "        \n",
    "    Investment2: I2\n",
    "        position=long\n",
    "        option=put\n",
    "        strike=$58\n",
    "        premium=$2 ->default for put option\n",
    "        \n",
    "    Investment2: I3\n",
    "        position=short\n",
    "        option=call\n",
    "        strike=$54\n",
    "        premium=$4 ->default for put option\n",
    "        \n",
    "    Investment2: I4\n",
    "        position=short\n",
    "        option=put\n",
    "        strike=$54\n",
    "        premium=$2 ->default for put option\n",
    "        \n",
    "    Investment2: I5\n",
    "        position=long\n",
    "        option=call\n",
    "        strike=$100\n",
    "        premium=$4 ->default for put option\n",
    "\"\"\"\n",
    "\n",
    "\n",
    "\n",
    "\n",
    "\n",
    "def Solution_3():    \n",
    "    I1 = Investment(\"long\",\"call\",50,4)\n",
    "    I2 = Investment(\"long\",\"put\",58,2) \n",
    "    I3 = Investment(\"short\",\"call\",54,4)\n",
    "    I4 = Investment(\"short\",\"put\",54,2) \n",
    "    I5 = Investment(\"long\",\"call\",100,4) \n",
    "\n",
    "    investments=[I1,I2,I3,I4,I5]\n",
    "    payoff_plot(investments)\n",
    "    #returning portfolios\n",
    "    return [I.get_portfolio() for I in investments]"
   ]
  },
  {
   "cell_type": "code",
   "execution_count": 9,
   "metadata": {},
   "outputs": [
    {
     "data": {
      "image/png": "[encoded data removed]",
      "text/plain": [
       "<Figure size 432x288 with 1 Axes>"
      ]
     },
     "metadata": {},
     "output_type": "display_data"
    },
    {
     "data": {
      "text/plain": [
       "[{'position': 'long', 'option': 'call', 'strike': 50, 'premium': 4},\n",
       " {'position': 'long', 'option': 'put', 'strike': 58, 'premium': 2},\n",
       " {'position': 'short', 'option': 'call', 'strike': 54, 'premium': 4},\n",
       " {'position': 'short', 'option': 'put', 'strike': 54, 'premium': 2},\n",
       " {'position': 'long', 'option': 'call', 'strike': 100, 'premium': 4}]"
      ]
     },
     "execution_count": 9,
     "metadata": {},
     "output_type": "execute_result"
    }
   ],
   "source": [
    "Solution_3()"
   ]
  },
  {
   "cell_type": "markdown",
   "metadata": {},
   "source": [
    "<b>Q4:</b> Imagine that calls and puts are available at all strikes in range [0, 100] in multiples of 0.5 only. And also assume that the premiums of all calls and puts is 0.0. What is the nearest possible replication that can be done such that the portfolio behaves as a custom call option struck at 50 with the portfolio payoff as {1 if stock price > 50, 0 otherwise}? "
   ]
  },
  {
   "cell_type": "markdown",
   "metadata": {},
   "source": [
    "<u>Solution format:</u>\n",
    "- If you have written the code, please provide a standalone function (no-arguments) that generates the plot and returns the portfolio of calls and puts that you have chosen to replicate the payoff. "
   ]
  },
  {
   "cell_type": "code",
   "execution_count": 10,
   "metadata": {},
   "outputs": [],
   "source": [
    "\"\"\"\n",
    "    To generate the plot, following portfolios are chosen:\n",
    "    \n",
    "    Investment1: I1\n",
    "        position=long\n",
    "        option=call\n",
    "        strike=$50\n",
    "        premium=$0\n",
    "        \n",
    "    Investment2: I2\n",
    "        position=short\n",
    "        option=call\n",
    "        strike=$50.5\n",
    "        premium=$0\n",
    "        \n",
    "    Investment2: I3\n",
    "        position=long\n",
    "        option=call\n",
    "        strike=$50\n",
    "        premium=$0\n",
    "        \n",
    "    Investment2: I4\n",
    "        position=short\n",
    "        option=call\n",
    "        strike=$50.5\n",
    "        premium=$0\n",
    "        \n",
    "\"\"\"\n",
    "\n",
    "\n",
    "\n",
    "\n",
    "def Solution_4():    \n",
    "    I1 = Investment(\"long\",\"call\",50,0)\n",
    "    I2 = Investment(\"short\",\"call\",50.5,0)\n",
    "    I3 = Investment(\"long\",\"call\",50,0)\n",
    "    I4 = Investment(\"short\",\"call\",50.5,0)\n",
    "    investments=[I1,I2,I3,I4]\n",
    "    payoff_plot(investments)\n",
    "    #returning portfolios\n",
    "    return [I.get_portfolio() for I in investments]"
   ]
  },
  {
   "cell_type": "code",
   "execution_count": 11,
   "metadata": {},
   "outputs": [
    {
     "data": {
      "image/png": "[encoded data removed]",
      "text/plain": [
       "<Figure size 432x288 with 1 Axes>"
      ]
     },
     "metadata": {},
     "output_type": "display_data"
    },
    {
     "data": {
      "text/plain": [
       "[{'position': 'long', 'option': 'call', 'strike': 50, 'premium': 0},\n",
       " {'position': 'short', 'option': 'call', 'strike': 50.5, 'premium': 0},\n",
       " {'position': 'long', 'option': 'call', 'strike': 50, 'premium': 0},\n",
       " {'position': 'short', 'option': 'call', 'strike': 50.5, 'premium': 0}]"
      ]
     },
     "execution_count": 11,
     "metadata": {},
     "output_type": "execute_result"
    }
   ],
   "source": [
    "Solution_4()"
   ]
  },
  {
   "cell_type": "markdown",
   "metadata": {},
   "source": [
    "<u><b>Probability:</b></u><br>\n",
    "For the below questions, assume that you have 3 days to sell a stock that you hold, and the \n",
    "potential buyer is quoting you the prices each day. You can either accept the price the buyer \n",
    "quotes, or wait for the next day’s quote by rejecting the quote. There is no chance of changing \n",
    "your previous decision.\n"
   ]
  },
  {
   "cell_type": "markdown",
   "metadata": {},
   "source": [
    "<b>Q5: a:</b> The buyer is free to quote any price he/she wishes and the quotes do not appear to follow \n",
    "any standard probability distributions. For example, the quotes can be 10000X or 0.001X of the \n",
    "previous quote. What should be your strategy to optimize your chances of selling the stock at the \n",
    "highest possible price across the three days? <br>\n",
    "<u>Solution format:</u> Describe in words.\n"
   ]
  },
  {
   "cell_type": "markdown",
   "metadata": {},
   "source": [
    "<i><b>Ans:</b> Let's rank the days based on the quoted price of the buyer each day:<br/>\n",
    "    We observe the following possible ordering will occur and they will be equally likely:<br>\n",
    "    <ul>\n",
    "        <li> 1 2 3</li>\n",
    "        <li> 1 3 2</li>\n",
    "        <li> 2 1 3</li>\n",
    "        <li> 2 3 1</li>\n",
    "        <li> 3 1 2</li>\n",
    "        <li> 3 2 1</li>\n",
    "    </ul>\n",
    "    Let quote price on day i be Qi.<br>\n",
    "    We can't guarantee which one will be maximum, but on the second day we'll know that whether quote price on day2 was greater than that on day1 or not. If Q2 &lt; Q1, then we definetly know that Q2 is not maximum, we can then sell on day3 since we can't sell on day1 and day2 is already ruled out. If Q2 &gt; Q1, our possibilities are limited to [2 1 3], [2 3 1], [3 2 1] (i.e) there are 2/1 odds of Q2 being the maximum, hence we'll choose day2 in this case.\n",
    "    \n",
    "</i>\n"
   ]
  },
  {
   "cell_type": "markdown",
   "metadata": {},
   "source": [
    "<b>Q5: b:</b> Using your strategy in Q5: a:, what is the probability that you would sell the stock at the \n",
    "maximum price possible? <br>\n",
    "<u>Solution format:</u> Describe in words.\n"
   ]
  },
  {
   "cell_type": "markdown",
   "metadata": {},
   "source": [
    "<i><b>Ans: </b> To calculate the probability, we divide the situation into 2 senarios:<br>\n",
    "<u>Case1: Q2 &lt; Q1</u><br>\n",
    "Possibilities where Q2 &lt; Q1 are: [1 2 3], [1 3 2], [3 2 1]. So the probability that Q2 &lt; Q1 is $\\frac{1}{2}$. Based on above strategy, we'll choose day3 as our guess. Probabilty that day3 will be correct guess is $\\frac{1}{3}$. Hence the probability in Case 1 is $\\frac{1}{6}$.<br>\n",
    "<u>Case1: Q2 &gt; Q1</u><br>\n",
    "Possibilities where Q2 &gt; Q1 are: [2 1 3], [2 3 1], [3 2 1]. So the probability that Q2 &gt; Q1 is $\\frac{1}{2}$. Based on above strategy, we'll choose day2 as our guess. Probabilty that day2 will be correct guess is $\\frac{2}{3}$. Hence the probability in Case 2 is $\\frac{2}{6}$.\n",
    "<br>\n",
    "Hence total probability of choosing the day with maximum quoted price is the sum of probabilities in Case1 and Case2 (i.e) $\\frac{1}{2}$.\n",
    "        \n",
    "    \n",
    "</i>"
   ]
  },
  {
   "cell_type": "markdown",
   "metadata": {},
   "source": [
    "<b>Q6: a:</b> Imagine that the quotes are always in multiples of 10, and always range in [110, 160] with equal probability, i.e., 1/6th chance of drawing one of {110, 120, 130, 140, 150, 160}. What strategy should you adopt to maximize your expected returns? <br>\n",
    "<u>Solution format:</u> Describe in words."
   ]
  },
  {
   "cell_type": "markdown",
   "metadata": {},
   "source": [
    "<i><b>Ans:</b> Let quote price on day i be Qi.<br>\n",
    "We know that whenever probability of Q1 being the maximum is greater than $\\frac{1}{2}$, probability of Q2 and Q3 being the maximum is less than half $\\frac{1}{2}$ and hence less than that of Q1. Hence if we find the probability of Q1 being maximum greater than $\\frac{1}{2}$, we'll choose day 1.\n",
    "</i>"
   ]
  },
  {
   "cell_type": "markdown",
   "metadata": {},
   "source": [
    "|Quote price on day1| Probability that day1 has maximum quote price given Q1|\n",
    "|:--|:--|\n",
    "|110| $\\frac{1}{36}$|\n",
    "|120| $\\frac{4}{36}$|\n",
    "|130| $\\frac{9}{36}$|\n",
    "|140| $\\frac{16}{36}$|\n",
    "|150| $\\frac{25}{36}$|\n",
    "|160| $\\frac{36}{36}$|\n"
   ]
  },
  {
   "cell_type": "markdown",
   "metadata": {},
   "source": [
    "<i>Based on the above, table if Q1={150, 160}, stocks will be sold on day 1<br>\n",
    "If the stock isn't sold on day 1, and if the probability of day2 having the maximum quote price given Q1 and Q2 is greater than $\\frac{1}{2}$, then stocks will be sold on day 2, else the stocks will be sold on day 3 no matter the price of Q3. \n",
    "</i>"
   ]
  },
  {
   "cell_type": "markdown",
   "metadata": {},
   "source": [
    "|Quote price on day1| Quote price on day2| Probability that day2 has maximum quote price given Q1 and Q2|\n",
    "|:--|:--|:--|\n",
    "|[110]               | 110| $\\frac{1}{6}$|\n",
    "|[120,110]           | 120| $\\frac{2}{6}$|\n",
    "|[130, 120, 110]     | 130| $\\frac{3}{6}$|\n",
    "|[140, 130, 120, 110]| 140| $\\frac{4}{6}$|\n",
    "|[140, 130, 120, 110]| 150| $\\frac{5}{6}$|\n",
    "|[140, 130, 120, 110]| 160| $\\frac{6}{6}$|"
   ]
  },
  {
   "cell_type": "markdown",
   "metadata": {},
   "source": [
    "<i> Case where Q2 &lt; Q1 is negected as probability of Q2 being maximum would be 0 in that case.<br>\n",
    "    Based on above table, if stocks are not sold on day 1 and Q2={130, 140, 150, 160} then stocks will be sold on day 2.\n",
    "    If stocks are not sold out day 2 even, then they will be sold on day 3. Below are the cases where stocks will be sold on day3 and Q3 is the maximum.  \n",
    "</i>"
   ]
  },
  {
   "cell_type": "markdown",
   "metadata": {},
   "source": [
    "|Quote price on day1| Quote price on day2| Quote price on day3|\n",
    "|:--|:--|:--|\n",
    "|[110]               | [110]    |110| \n",
    "|[120,110]           | [110,120]|120| \n",
    "|[130, 120, 110]     | [110,120]|130| \n",
    "|[140, 130, 120, 110]| [110,120]|140| \n",
    "|[140, 130, 120, 110]| [110,120]|150| \n",
    "|[140, 130, 120, 110]| [110,120]|160| "
   ]
  },
  {
   "cell_type": "markdown",
   "metadata": {},
   "source": [
    "<b>Q6: b:</b> What is the expected return in Q6: a:? <br>\n",
    "<u>Solution format:</u> Describe in words. "
   ]
  },
  {
   "cell_type": "markdown",
   "metadata": {},
   "source": [
    "<u>Total return in day 1:</u><br>\n",
    "$\\frac{1}{6}$ x $\\frac{25}{36}$ x 150 + $\\frac{1}{6}$ x $\\frac{36}{36}$ x 160<br>\n",
    "\n",
    "<u>Total return in day 2:</u><br>\n",
    "$\\frac{3}{6}$ x $\\frac{1}{6}$ x $\\frac{3}{6}$ x 130 + $\\frac{4}{6}$ x $\\frac{1}{6}$ x $\\frac{4}{6}$ x 140 + $\\frac{4}{6}$ x $\\frac{1}{6}$ x $\\frac{5}{6}$ x 150+ $\\frac{4}{6}$ x $\\frac{1}{6}$ x $\\frac{6}{6}$ x 160<br>\n",
    "\n",
    "<u>Total return in day 3:</u><br>\n",
    "$\\frac{1x110+4x120+6x130+8x140+8x150+8x160}{6x6x6}$ <br>\n",
    "\n",
    "<u>Total return is:</u><br>\n",
    "114.5 "
   ]
  },
  {
   "cell_type": "markdown",
   "metadata": {},
   "source": [
    "<u><b>Statistics:</b></u><br>\n",
    "Imagine two banks (A and B) in a country which are governed by a central authority, have similar \n",
    "customer base and offer similar products and services. Therefore, any change in the business \n",
    "environment will have a similar impact on both the banks. In the ideal world, if the stock price of \n",
    "Bank A rises by x%, then stock price of Bank B is also expected to rise, at least by y% and vice \n",
    "versa. But, since each bank is an independent entity, it will be also subject to its internal \n",
    "environment. For example, assume that there is a change in the top echelon of Bank A, leading \n",
    "to a negative effect on its stock price; Bank B’s stock will still maintain its status quo as this event \n",
    "is localized to Bank A. Ceteris paribus, Bank A’s stock price is expected to maintain its usual \n",
    "relation with Bank B in some time.\n"
   ]
  },
  {
   "cell_type": "markdown",
   "metadata": {},
   "source": [
    "<b>Q7: a: </b>Which statistical measure would you use to find the most suitable pair of stocks that are in tandem with the above scenario and why? <br>\n",
    "<u>Solution format: </u>Describe in words.\n"
   ]
  },
  {
   "cell_type": "markdown",
   "metadata": {},
   "source": [
    "<i><b>Ans: </b>In order to find the most suitable pair of stocks that are in tandem with the above scenario, one can use correlation coefficient as statistical measure, since correlation coefficient can measure similarity between two variables. Since the trends in the rise of stock are similar, the variables with correlation coefficient close to 1 (or above a certain threshold to count for internal losses) will resemble the above situation. </i>"
   ]
  },
  {
   "cell_type": "markdown",
   "metadata": {},
   "source": [
    "<b>Q7: b:</b> Explain how you can leverage in the scenario described above to gain profit in the market and how to minimize the risk ssociated with it? <br>\n",
    "<u>Solution format:</u> Describe in words."
   ]
  },
  {
   "cell_type": "markdown",
   "metadata": {},
   "source": [
    "<i><b>Ans: </b>To gain benefit from the above senario, if one observes an increase in the stock price of one of the banks, then they can purchase the stocks of other bank as the other bank's stocks is also going to rise eventually. On the other way, one can sell their stocks of bank B if they find decrease in stock price of Bank A and vice versa.   \n",
    "In order to minimize the risk associated with it, one can purchase a call option for bank A if they find an increase in stock price of bank B or a put option for bank A if they find a decrease in stock price of bank B or vice versa.</i>"
   ]
  },
  {
   "cell_type": "markdown",
   "metadata": {},
   "source": [
    "----------------------------------------------------------\n",
    "## <b>Case Study B:</b> The Automaton"
   ]
  },
  {
   "cell_type": "code",
   "execution_count": 12,
   "metadata": {},
   "outputs": [],
   "source": [
    "import math\n",
    "import numpy as np\n",
    "from collections import Counter"
   ]
  },
  {
   "cell_type": "markdown",
   "metadata": {},
   "source": [
    "<b>Deterministic cellular automata</b>"
   ]
  },
  {
   "cell_type": "markdown",
   "metadata": {},
   "source": [
    "<b>Q1: a:</b> Given the seed generation of a cellular automaton containing 4 cells, and the rules for cell \n",
    "transformation, determine the state of cells in the grid after 4 generations (i.e. 4 time steps).<br>\n",
    "Seed Generation (Generation 0):"
   ]
  },
  {
   "cell_type": "markdown",
   "metadata": {},
   "source": [
    "\n",
    "|1  |2  |3  |4  |\n",
    "|:--|:--|:--|:--|\n",
    "| 1 | 1 | 0 | 0 |"
   ]
  },
  {
   "cell_type": "markdown",
   "metadata": {},
   "source": [
    "|Parent Configuration| Child value|\n",
    "|:--|:--|\n",
    "|0| 1|\n",
    "|1| 1|\n",
    "|2| 0|\n",
    "|3| 0|\n",
    "|4| 1|\n",
    "|5| 0|\n",
    "|6| 1|\n",
    "|7| 0|\n"
   ]
  },
  {
   "cell_type": "markdown",
   "metadata": {},
   "source": [
    "<u>Solution format:</u><br>\n",
    "Write the answer in the form of a 1D grid containing 4 cells.\n"
   ]
  },
  {
   "cell_type": "markdown",
   "metadata": {},
   "source": [
    "|1  |2  |3  |4  |\n",
    "|:--|:--|:--|:--|\n",
    "| 0 | 0 | 1 | 0 |"
   ]
  },
  {
   "cell_type": "markdown",
   "metadata": {},
   "source": [
    "<b>Q1: b:</b> If each generation of the cellular automaton is printed, it will form wondrous patterns. Some of these patterns might repeat, some might be completely random. For the automaton described in Part 1, print each generation of the automaton in a new line and \n",
    "replace all 1s with ‘|’ and 0s with ‘.’ .\n"
   ]
  },
  {
   "cell_type": "markdown",
   "metadata": {},
   "source": [
    "<u>Solution format:</u>\n",
    "1) Write the answer in the form of a 4 lines, each containing 4 characters depicting the generation. <br>\n",
    "2) Additionally, write a program or pseudo code to do the above"
   ]
  },
  {
   "cell_type": "code",
   "execution_count": 13,
   "metadata": {},
   "outputs": [],
   "source": [
    "def seed_generation(cells,gen,rule): \n",
    "    for j in range(gen):\n",
    "        n=len(cells)\n",
    "        new_cells=[]\n",
    "        for i in range(n):\n",
    "            parent=4*cells[(i-1)%n]+2*cells[i]+cells[(i+1)%n]\n",
    "            new_cells.append(rule[parent])\n",
    "        cells=new_cells\n",
    "        yield new_cells\n",
    "    \n",
    "\n",
    "    \n",
    "def print_cells(cells):\n",
    "    print(\"\".join(['|' if cell == 1 else '.' for cell in cells]))\n",
    "    "
   ]
  },
  {
   "cell_type": "code",
   "execution_count": 14,
   "metadata": {},
   "outputs": [
    {
     "name": "stdout",
     "output_type": "stream",
     "text": [
      ".|||\n",
      "...|\n",
      "|||.\n",
      "..|.\n"
     ]
    }
   ],
   "source": [
    "gen=4\n",
    "#cells at gen=0\n",
    "cells=[1,1,0,0]\n",
    "#parent->child rule\n",
    "rule=[1,1,0,0,1,0,1,0]\n",
    "for seed in seed_generation(cells,gen,rule):\n",
    "    print_cells(seed)\n"
   ]
  },
  {
   "cell_type": "markdown",
   "metadata": {},
   "source": [
    "<b>Probabilistic cellular automata</b>"
   ]
  },
  {
   "cell_type": "markdown",
   "metadata": {},
   "source": [
    "|Parent Configuration| probability of child value being 0|\n",
    "|:--|:--|\n",
    "|0| 0.4|\n",
    "|1| 0.6|\n",
    "|2| 0.4|\n",
    "|3| 0.7|\n",
    "|4| 0.4|\n",
    "|5| 0.7|\n",
    "|6| 0.7|\n",
    "|7| 0.6|"
   ]
  },
  {
   "cell_type": "code",
   "execution_count": 15,
   "metadata": {},
   "outputs": [],
   "source": [
    "\"\"\"\n",
    "    probability function provides the probability to go from state1 to state2.   \n",
    "    \n",
    "    params:\n",
    "        state1\n",
    "        state2\n",
    "        p_rule:probability rule i.e probability of child becoming 0.\n",
    "\"\"\"\n",
    "def probability(state1, state2, p_rule):\n",
    "    n=len(state1)\n",
    "    p=1\n",
    "    for i in range(n):\n",
    "        parent=4*state1[(i-1)%n]+2*state1[i]+state1[(i+1)%n]\n",
    "        if state2[i]==0:\n",
    "            p*=(p_rule[parent])\n",
    "        else:\n",
    "            p*=(1-p_rule[parent])\n",
    "    return p\n",
    "    \n"
   ]
  },
  {
   "cell_type": "code",
   "execution_count": 16,
   "metadata": {},
   "outputs": [],
   "source": [
    "\"\"\"\n",
    "    encode function is for hashing state to an integer\n",
    "    \n",
    "    params:\n",
    "        state: list of size n consisting of 0's and 1's\n",
    "\"\"\"\n",
    "def encode(state):\n",
    "    n=len(state)\n",
    "    hash_val=0\n",
    "    power2=1\n",
    "    for cell in state:\n",
    "        hash_val+=(power2*cell)\n",
    "        power2*=2\n",
    "    return hash_val\n",
    "\n",
    "\"\"\"\n",
    "    decode function is for getting back state from hashed integer\n",
    "    \n",
    "    params:\n",
    "        hash_int: hashed integer\n",
    "        n: size of state or number cells in a state\n",
    "\"\"\"\n",
    "def decode(hash_int, n):\n",
    "    state=[0 for i in range(n)]\n",
    "    for i in range(n):\n",
    "        state[i]=(hash_int%2)\n",
    "        hash_int//=2\n",
    "    return state[::-1]\n",
    "    \n",
    "        \n",
    "    "
   ]
  },
  {
   "cell_type": "code",
   "execution_count": 17,
   "metadata": {},
   "outputs": [],
   "source": [
    "\"\"\"\n",
    "    This function will return a 2**n X 2**n matrix(numpy array) representing probability of going from one state to another\n",
    "    \n",
    "    params:\n",
    "        n: size of state or number cells in a state\n",
    "        p_rule:probability rule i.e probability of child becoming 0.\n",
    "\"\"\"\n",
    "def transformation_matrix(n, p_rule):\n",
    "    size=2**n\n",
    "    matrix=np.zeros((size, size))\n",
    "    for i in range(size):\n",
    "        state1=decode(i,n)\n",
    "        for j in range(size):\n",
    "            state2=decode(j,n)\n",
    "            matrix[i,j]=probability(state1, state2, p_rule)\n",
    "    return matrix\n",
    "            \n",
    "            \n",
    "    "
   ]
  },
  {
   "cell_type": "markdown",
   "metadata": {},
   "source": [
    "<b>Q2: a:</b> Given the seed generation to be the below and using the rule set depicted above, determine the three most likely configurations of the automaton after 1 generation.<br>\n",
    "[0 1 1 0]<br>\n",
    "<u>Solution format:</u><br>\n",
    "Expected answer is in the form of three grids, ranked by probability"
   ]
  },
  {
   "cell_type": "code",
   "execution_count": 18,
   "metadata": {},
   "outputs": [
    {
     "name": "stdout",
     "output_type": "stream",
     "text": [
      "three most likely configurations of the automaton after 1 generation:\n",
      "state: [0, 0, 0, 1] probability: 0.17639999999999997\n",
      "state: [0, 0, 0, 0] probability: 0.1176\n",
      "state: [1, 0, 0, 1] probability: 0.11759999999999998\n"
     ]
    }
   ],
   "source": [
    "p_rule=[0.4, 0.6, 0.4, 0.7, 0.4, 0.7, 0.7, 0.6]\n",
    "initial_state=[0,1,1,0]\n",
    "n=len(initial_state)\n",
    "\n",
    "#generation 1 states with probability\n",
    "gen1_states={i:probability(initial_state, decode(i,n), p_rule)  for i in range(2**n)}\n",
    "#print(gen1_states)\n",
    "\n",
    "k = Counter(gen1_states)\n",
    "\n",
    "# Finding 3 highest values\n",
    "high = k.most_common(3)\n",
    "\n",
    "print(\"three most likely configurations of the automaton after 1 generation:\")\n",
    "for i in high:\n",
    "    print(\"state:\",decode(i[0],n),\"probability:\",i[1])\n"
   ]
  },
  {
   "cell_type": "markdown",
   "metadata": {},
   "source": [
    "<b>Q2: b:</b> Assume the automaton with the below grid as the seed generation goes through ‘k’ transformations. (I.e. there are k generations excluding the seed) <br>\n",
    "[1 0 0 1 1 0 0 0]<br>\n",
    "What is the most likely configuration of the grid if:<br>\n",
    "1. k=5 \n",
    "2. k=15 \n",
    "3. k=infinity? Are there multiple configurations that are equally likely? \n",
    "Write a program to compute the above. Expected output for each value of k is a grid depicting the most likely configuration along with its probability.<br>\n",
    "\n",
    "<u>Solution format:</u>\n",
    "1. Program that computes the above."
   ]
  },
  {
   "cell_type": "code",
   "execution_count": 19,
   "metadata": {},
   "outputs": [],
   "source": [
    "\"\"\"\n",
    "    prob_after_kth_gen: function to find probability after kth generation\n",
    "    This function computes probabilities at kth state by transforming the probabilities at (k-1)th step\n",
    "    \n",
    "    params:\n",
    "        gen: number of generation after which probability is to be found\n",
    "        initial_state: state at gen=0\n",
    "        matrix: matrix of probabilities\n",
    "    \n",
    "\"\"\"\n",
    "\n",
    "def prob_after_kth_gen(gen, initial_state, matrix):\n",
    "    n=len(initial_state)\n",
    "    #initial state index\n",
    "    ii=encode(initial_state)\n",
    "    #first generation\n",
    "    gen_prob=np.copy(matrix[ii,:])  \n",
    "    for i in range(2,gen+1):\n",
    "        gen_prob=gen_prob @ matrix  \n",
    "    max_i=np.argmax(gen_prob)\n",
    "    max_val=np.amax(gen_prob)\n",
    "    print(\"Most likely configuration along with the probability after generation\",gen,\":\")    \n",
    "    print(decode(max_i,n),max_val)    \n",
    "    \n"
   ]
  },
  {
   "cell_type": "code",
   "execution_count": 20,
   "metadata": {},
   "outputs": [
    {
     "name": "stdout",
     "output_type": "stream",
     "text": [
      "Most likely configuration along with the probability after generation 5 :\n",
      "[0, 0, 0, 0, 0, 0, 0, 0] 0.009731286588157818\n"
     ]
    }
   ],
   "source": [
    "p_rule=[0.4, 0.6, 0.4, 0.7, 0.4, 0.7, 0.7, 0.6]\n",
    "matrix=transformation_matrix(8, p_rule)\n",
    "prob_after_kth_gen(5, [1 ,0, 0, 1, 1, 0, 0, 0], matrix)"
   ]
  },
  {
   "cell_type": "code",
   "execution_count": 21,
   "metadata": {},
   "outputs": [
    {
     "name": "stdout",
     "output_type": "stream",
     "text": [
      "Most likely configuration along with the probability after generation 15 :\n",
      "[0, 0, 0, 0, 0, 0, 0, 0] 0.009767755349008565\n"
     ]
    }
   ],
   "source": [
    "prob_after_kth_gen(15, [1 ,0, 0, 1, 1, 0, 0, 0], matrix)"
   ]
  },
  {
   "cell_type": "code",
   "execution_count": 22,
   "metadata": {},
   "outputs": [],
   "source": [
    "\"\"\"\n",
    "    this function computes probability after infinite generation by solving n equations with n variables \n",
    "    (which are probabilities of 2**n states).\n",
    "    \n",
    "    params:\n",
    "        n: number of cells in a state\n",
    "        matrix: matrix of probabilities\n",
    "    \n",
    "\"\"\"\n",
    "\n",
    "def prob_after_infinity(n, matrix):   \n",
    "    size=2**n     \n",
    "    mat1=matrix.T-np.identity(size)    \n",
    "    mat1[0,:]=1    \n",
    "    mat2=np.zeros((size, 1))\n",
    "    mat2[0,0]=1    \n",
    "    mat3=np.linalg.inv(mat1)@mat2    \n",
    "    max_i=np.argmax(mat3)\n",
    "    max_val=np.amax(mat3)\n",
    "    print(\"Most likely configuration along with the probability after infinite generation:\")   \n",
    "    print(decode(max_i,n),max_val)    \n",
    "    #print(mat3[:5])"
   ]
  },
  {
   "cell_type": "code",
   "execution_count": 23,
   "metadata": {},
   "outputs": [
    {
     "name": "stdout",
     "output_type": "stream",
     "text": [
      "Most likely configuration along with the probability after infinite generation:\n",
      "[0, 0, 0, 0, 0, 0, 0, 0] 0.009767756059567992\n"
     ]
    }
   ],
   "source": [
    "prob_after_infinity(8, matrix)"
   ]
  },
  {
   "cell_type": "markdown",
   "metadata": {},
   "source": [
    "<i><b>Ans: </b>Yes, there multiple configuration which are equally likely. For example states [0, 0, 0, 0, 0, 0, 0, 1],[0, 0, 0, 0, 0, 0, 1, 0],[0, 0, 0, 0, 0, 1, 0, 0] are equally likely with a probability of 0.00725383</i>"
   ]
  },
  {
   "cell_type": "code",
   "execution_count": null,
   "metadata": {},
   "outputs": [],
   "source": []
  }
 ],
 "metadata": {
  "kernelspec": {
   "display_name": "Python 3",
   "language": "python",
   "name": "python3"
  },
  "language_info": {
   "codemirror_mode": {
    "name": "ipython",
    "version": 3
   },
   "file_extension": ".py",
   "mimetype": "text/x-python",
   "name": "python",
   "nbconvert_exporter": "python",
   "pygments_lexer": "ipython3",
   "version": "3.7.6"
  }
 },
 "nbformat": 4,
 "nbformat_minor": 4
}
